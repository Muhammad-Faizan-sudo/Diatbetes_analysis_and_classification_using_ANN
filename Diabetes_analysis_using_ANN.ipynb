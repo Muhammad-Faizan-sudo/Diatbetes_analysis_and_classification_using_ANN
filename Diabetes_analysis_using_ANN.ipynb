{
  "nbformat": 4,
  "nbformat_minor": 0,
  "metadata": {
    "colab": {
      "name": "Diabetes_analysis_using_ANN.ipynb",
      "provenance": []
    },
    "kernelspec": {
      "name": "python3",
      "display_name": "Python 3"
    },
    "language_info": {
      "name": "python"
    }
  },
  "cells": [
    {
      "cell_type": "code",
      "metadata": {
        "id": "owg7IgDv4JMr"
      },
      "source": [
        "import numpy as np\n",
        "import pandas as pd\n",
        "import seaborn as sns\n",
        "import matplotlib.pyplot as plt"
      ],
      "execution_count": null,
      "outputs": []
    },
    {
      "cell_type": "code",
      "metadata": {
        "colab": {
          "base_uri": "https://localhost:8080/",
          "height": 224
        },
        "id": "kPe1wnrb4Mj6",
        "outputId": "1a90e13f-12c7-4ea0-c3d4-302c371a510a"
      },
      "source": [
        "df = pd.read_csv(\"/content/diabetes.csv\")\n",
        "df.head()"
      ],
      "execution_count": null,
      "outputs": [
        {
          "output_type": "execute_result",
          "data": {
            "text/html": [
              "<div>\n",
              "<style scoped>\n",
              "    .dataframe tbody tr th:only-of-type {\n",
              "        vertical-align: middle;\n",
              "    }\n",
              "\n",
              "    .dataframe tbody tr th {\n",
              "        vertical-align: top;\n",
              "    }\n",
              "\n",
              "    .dataframe thead th {\n",
              "        text-align: right;\n",
              "    }\n",
              "</style>\n",
              "<table border=\"1\" class=\"dataframe\">\n",
              "  <thead>\n",
              "    <tr style=\"text-align: right;\">\n",
              "      <th></th>\n",
              "      <th>Pregnancies</th>\n",
              "      <th>Glucose</th>\n",
              "      <th>BloodPressure</th>\n",
              "      <th>SkinThickness</th>\n",
              "      <th>Insulin</th>\n",
              "      <th>BMI</th>\n",
              "      <th>DiabetesPedigreeFunction</th>\n",
              "      <th>Age</th>\n",
              "      <th>Outcome</th>\n",
              "    </tr>\n",
              "  </thead>\n",
              "  <tbody>\n",
              "    <tr>\n",
              "      <th>0</th>\n",
              "      <td>6</td>\n",
              "      <td>148</td>\n",
              "      <td>72</td>\n",
              "      <td>35</td>\n",
              "      <td>0</td>\n",
              "      <td>33.6</td>\n",
              "      <td>0.627</td>\n",
              "      <td>50</td>\n",
              "      <td>1</td>\n",
              "    </tr>\n",
              "    <tr>\n",
              "      <th>1</th>\n",
              "      <td>1</td>\n",
              "      <td>85</td>\n",
              "      <td>66</td>\n",
              "      <td>29</td>\n",
              "      <td>0</td>\n",
              "      <td>26.6</td>\n",
              "      <td>0.351</td>\n",
              "      <td>31</td>\n",
              "      <td>0</td>\n",
              "    </tr>\n",
              "    <tr>\n",
              "      <th>2</th>\n",
              "      <td>8</td>\n",
              "      <td>183</td>\n",
              "      <td>64</td>\n",
              "      <td>0</td>\n",
              "      <td>0</td>\n",
              "      <td>23.3</td>\n",
              "      <td>0.672</td>\n",
              "      <td>32</td>\n",
              "      <td>1</td>\n",
              "    </tr>\n",
              "    <tr>\n",
              "      <th>3</th>\n",
              "      <td>1</td>\n",
              "      <td>89</td>\n",
              "      <td>66</td>\n",
              "      <td>23</td>\n",
              "      <td>94</td>\n",
              "      <td>28.1</td>\n",
              "      <td>0.167</td>\n",
              "      <td>21</td>\n",
              "      <td>0</td>\n",
              "    </tr>\n",
              "    <tr>\n",
              "      <th>4</th>\n",
              "      <td>0</td>\n",
              "      <td>137</td>\n",
              "      <td>40</td>\n",
              "      <td>35</td>\n",
              "      <td>168</td>\n",
              "      <td>43.1</td>\n",
              "      <td>2.288</td>\n",
              "      <td>33</td>\n",
              "      <td>1</td>\n",
              "    </tr>\n",
              "  </tbody>\n",
              "</table>\n",
              "</div>"
            ],
            "text/plain": [
              "   Pregnancies  Glucose  BloodPressure  ...  DiabetesPedigreeFunction  Age  Outcome\n",
              "0            6      148             72  ...                     0.627   50        1\n",
              "1            1       85             66  ...                     0.351   31        0\n",
              "2            8      183             64  ...                     0.672   32        1\n",
              "3            1       89             66  ...                     0.167   21        0\n",
              "4            0      137             40  ...                     2.288   33        1\n",
              "\n",
              "[5 rows x 9 columns]"
            ]
          },
          "metadata": {},
          "execution_count": 63
        }
      ]
    },
    {
      "cell_type": "code",
      "metadata": {
        "colab": {
          "base_uri": "https://localhost:8080/"
        },
        "id": "SshdYro84Y99",
        "outputId": "5b1025eb-745b-45a2-af5c-3bdf5ad595aa"
      },
      "source": [
        "df.shape"
      ],
      "execution_count": null,
      "outputs": [
        {
          "output_type": "execute_result",
          "data": {
            "text/plain": [
              "(768, 9)"
            ]
          },
          "metadata": {},
          "execution_count": 64
        }
      ]
    },
    {
      "cell_type": "code",
      "metadata": {
        "colab": {
          "base_uri": "https://localhost:8080/"
        },
        "id": "2M-2QUZW4a0R",
        "outputId": "94c5eab1-6621-407b-c780-c611b4dcf35f"
      },
      "source": [
        "df.dtypes"
      ],
      "execution_count": null,
      "outputs": [
        {
          "output_type": "execute_result",
          "data": {
            "text/plain": [
              "Pregnancies                   int64\n",
              "Glucose                       int64\n",
              "BloodPressure                 int64\n",
              "SkinThickness                 int64\n",
              "Insulin                       int64\n",
              "BMI                         float64\n",
              "DiabetesPedigreeFunction    float64\n",
              "Age                           int64\n",
              "Outcome                       int64\n",
              "dtype: object"
            ]
          },
          "metadata": {},
          "execution_count": 65
        }
      ]
    },
    {
      "cell_type": "code",
      "metadata": {
        "colab": {
          "base_uri": "https://localhost:8080/"
        },
        "id": "1uErlYxE4ckx",
        "outputId": "add05e5d-dc61-4113-acb5-ffcb147fc0c3"
      },
      "source": [
        "df.info()"
      ],
      "execution_count": null,
      "outputs": [
        {
          "output_type": "stream",
          "name": "stdout",
          "text": [
            "<class 'pandas.core.frame.DataFrame'>\n",
            "RangeIndex: 768 entries, 0 to 767\n",
            "Data columns (total 9 columns):\n",
            " #   Column                    Non-Null Count  Dtype  \n",
            "---  ------                    --------------  -----  \n",
            " 0   Pregnancies               768 non-null    int64  \n",
            " 1   Glucose                   768 non-null    int64  \n",
            " 2   BloodPressure             768 non-null    int64  \n",
            " 3   SkinThickness             768 non-null    int64  \n",
            " 4   Insulin                   768 non-null    int64  \n",
            " 5   BMI                       768 non-null    float64\n",
            " 6   DiabetesPedigreeFunction  768 non-null    float64\n",
            " 7   Age                       768 non-null    int64  \n",
            " 8   Outcome                   768 non-null    int64  \n",
            "dtypes: float64(2), int64(7)\n",
            "memory usage: 54.1 KB\n"
          ]
        }
      ]
    },
    {
      "cell_type": "code",
      "metadata": {
        "colab": {
          "base_uri": "https://localhost:8080/"
        },
        "id": "DGYnDWdq4etK",
        "outputId": "c9bc36d1-2ec6-4ee5-bc02-b6edb9e78642"
      },
      "source": [
        "columns = df.columns\n",
        "print(\"columns: \",columns)"
      ],
      "execution_count": null,
      "outputs": [
        {
          "output_type": "stream",
          "name": "stdout",
          "text": [
            "columns:  Index(['Pregnancies', 'Glucose', 'BloodPressure', 'SkinThickness', 'Insulin',\n",
            "       'BMI', 'DiabetesPedigreeFunction', 'Age', 'Outcome'],\n",
            "      dtype='object')\n"
          ]
        }
      ]
    },
    {
      "cell_type": "code",
      "metadata": {
        "colab": {
          "base_uri": "https://localhost:8080/",
          "height": 317
        },
        "id": "n_Z3uhRO4gdY",
        "outputId": "103b17c9-ef7b-4d20-91be-8e6ba1a98b1d"
      },
      "source": [
        "df.describe()"
      ],
      "execution_count": null,
      "outputs": [
        {
          "output_type": "execute_result",
          "data": {
            "text/html": [
              "<div>\n",
              "<style scoped>\n",
              "    .dataframe tbody tr th:only-of-type {\n",
              "        vertical-align: middle;\n",
              "    }\n",
              "\n",
              "    .dataframe tbody tr th {\n",
              "        vertical-align: top;\n",
              "    }\n",
              "\n",
              "    .dataframe thead th {\n",
              "        text-align: right;\n",
              "    }\n",
              "</style>\n",
              "<table border=\"1\" class=\"dataframe\">\n",
              "  <thead>\n",
              "    <tr style=\"text-align: right;\">\n",
              "      <th></th>\n",
              "      <th>Pregnancies</th>\n",
              "      <th>Glucose</th>\n",
              "      <th>BloodPressure</th>\n",
              "      <th>SkinThickness</th>\n",
              "      <th>Insulin</th>\n",
              "      <th>BMI</th>\n",
              "      <th>DiabetesPedigreeFunction</th>\n",
              "      <th>Age</th>\n",
              "      <th>Outcome</th>\n",
              "    </tr>\n",
              "  </thead>\n",
              "  <tbody>\n",
              "    <tr>\n",
              "      <th>count</th>\n",
              "      <td>768.000000</td>\n",
              "      <td>768.000000</td>\n",
              "      <td>768.000000</td>\n",
              "      <td>768.000000</td>\n",
              "      <td>768.000000</td>\n",
              "      <td>768.000000</td>\n",
              "      <td>768.000000</td>\n",
              "      <td>768.000000</td>\n",
              "      <td>768.000000</td>\n",
              "    </tr>\n",
              "    <tr>\n",
              "      <th>mean</th>\n",
              "      <td>3.845052</td>\n",
              "      <td>120.894531</td>\n",
              "      <td>69.105469</td>\n",
              "      <td>20.536458</td>\n",
              "      <td>79.799479</td>\n",
              "      <td>31.992578</td>\n",
              "      <td>0.471876</td>\n",
              "      <td>33.240885</td>\n",
              "      <td>0.348958</td>\n",
              "    </tr>\n",
              "    <tr>\n",
              "      <th>std</th>\n",
              "      <td>3.369578</td>\n",
              "      <td>31.972618</td>\n",
              "      <td>19.355807</td>\n",
              "      <td>15.952218</td>\n",
              "      <td>115.244002</td>\n",
              "      <td>7.884160</td>\n",
              "      <td>0.331329</td>\n",
              "      <td>11.760232</td>\n",
              "      <td>0.476951</td>\n",
              "    </tr>\n",
              "    <tr>\n",
              "      <th>min</th>\n",
              "      <td>0.000000</td>\n",
              "      <td>0.000000</td>\n",
              "      <td>0.000000</td>\n",
              "      <td>0.000000</td>\n",
              "      <td>0.000000</td>\n",
              "      <td>0.000000</td>\n",
              "      <td>0.078000</td>\n",
              "      <td>21.000000</td>\n",
              "      <td>0.000000</td>\n",
              "    </tr>\n",
              "    <tr>\n",
              "      <th>25%</th>\n",
              "      <td>1.000000</td>\n",
              "      <td>99.000000</td>\n",
              "      <td>62.000000</td>\n",
              "      <td>0.000000</td>\n",
              "      <td>0.000000</td>\n",
              "      <td>27.300000</td>\n",
              "      <td>0.243750</td>\n",
              "      <td>24.000000</td>\n",
              "      <td>0.000000</td>\n",
              "    </tr>\n",
              "    <tr>\n",
              "      <th>50%</th>\n",
              "      <td>3.000000</td>\n",
              "      <td>117.000000</td>\n",
              "      <td>72.000000</td>\n",
              "      <td>23.000000</td>\n",
              "      <td>30.500000</td>\n",
              "      <td>32.000000</td>\n",
              "      <td>0.372500</td>\n",
              "      <td>29.000000</td>\n",
              "      <td>0.000000</td>\n",
              "    </tr>\n",
              "    <tr>\n",
              "      <th>75%</th>\n",
              "      <td>6.000000</td>\n",
              "      <td>140.250000</td>\n",
              "      <td>80.000000</td>\n",
              "      <td>32.000000</td>\n",
              "      <td>127.250000</td>\n",
              "      <td>36.600000</td>\n",
              "      <td>0.626250</td>\n",
              "      <td>41.000000</td>\n",
              "      <td>1.000000</td>\n",
              "    </tr>\n",
              "    <tr>\n",
              "      <th>max</th>\n",
              "      <td>17.000000</td>\n",
              "      <td>199.000000</td>\n",
              "      <td>122.000000</td>\n",
              "      <td>99.000000</td>\n",
              "      <td>846.000000</td>\n",
              "      <td>67.100000</td>\n",
              "      <td>2.420000</td>\n",
              "      <td>81.000000</td>\n",
              "      <td>1.000000</td>\n",
              "    </tr>\n",
              "  </tbody>\n",
              "</table>\n",
              "</div>"
            ],
            "text/plain": [
              "       Pregnancies     Glucose  ...         Age     Outcome\n",
              "count   768.000000  768.000000  ...  768.000000  768.000000\n",
              "mean      3.845052  120.894531  ...   33.240885    0.348958\n",
              "std       3.369578   31.972618  ...   11.760232    0.476951\n",
              "min       0.000000    0.000000  ...   21.000000    0.000000\n",
              "25%       1.000000   99.000000  ...   24.000000    0.000000\n",
              "50%       3.000000  117.000000  ...   29.000000    0.000000\n",
              "75%       6.000000  140.250000  ...   41.000000    1.000000\n",
              "max      17.000000  199.000000  ...   81.000000    1.000000\n",
              "\n",
              "[8 rows x 9 columns]"
            ]
          },
          "metadata": {},
          "execution_count": 68
        }
      ]
    },
    {
      "cell_type": "code",
      "metadata": {
        "id": "HQn3DP1Q4iYO"
      },
      "source": [
        "#make the feature and output separation from dataframe\n",
        "output = df[columns[-1]]\n",
        "features = df.drop(columns=columns[-1])"
      ],
      "execution_count": null,
      "outputs": []
    },
    {
      "cell_type": "code",
      "metadata": {
        "colab": {
          "base_uri": "https://localhost:8080/"
        },
        "id": "ylB3xE3A4nUe",
        "outputId": "598b654f-1d22-40e5-b5ff-a766308fff94"
      },
      "source": [
        "checkNull_entries = df.isnull().sum()\n",
        "list(checkNull_entries)\n",
        "\n",
        "if checkNull_entries.any() == False:\n",
        "    print(\"No Null entry here in the dataset\")\n",
        "else:\n",
        "    print(\"It Contain Null entry/entries need to remove it\")\n",
        "    df.dropna(axis=0,how='any')"
      ],
      "execution_count": null,
      "outputs": [
        {
          "output_type": "stream",
          "name": "stdout",
          "text": [
            "No Null entry here in the dataset\n"
          ]
        }
      ]
    },
    {
      "cell_type": "code",
      "metadata": {
        "colab": {
          "base_uri": "https://localhost:8080/",
          "height": 439
        },
        "id": "j73uaSJH4rGB",
        "outputId": "1baea7aa-23c2-4164-f0ce-ec5e5ea2f8a8"
      },
      "source": [
        "#if any duplicate row exist, this will remove all the duplicate row but keep the first row\n",
        "df.drop_duplicates(subset=None, \n",
        "                          keep='first',\n",
        "                          inplace=False,\n",
        "                          ignore_index=False)"
      ],
      "execution_count": null,
      "outputs": [
        {
          "output_type": "execute_result",
          "data": {
            "text/html": [
              "<div>\n",
              "<style scoped>\n",
              "    .dataframe tbody tr th:only-of-type {\n",
              "        vertical-align: middle;\n",
              "    }\n",
              "\n",
              "    .dataframe tbody tr th {\n",
              "        vertical-align: top;\n",
              "    }\n",
              "\n",
              "    .dataframe thead th {\n",
              "        text-align: right;\n",
              "    }\n",
              "</style>\n",
              "<table border=\"1\" class=\"dataframe\">\n",
              "  <thead>\n",
              "    <tr style=\"text-align: right;\">\n",
              "      <th></th>\n",
              "      <th>Pregnancies</th>\n",
              "      <th>Glucose</th>\n",
              "      <th>BloodPressure</th>\n",
              "      <th>SkinThickness</th>\n",
              "      <th>Insulin</th>\n",
              "      <th>BMI</th>\n",
              "      <th>DiabetesPedigreeFunction</th>\n",
              "      <th>Age</th>\n",
              "      <th>Outcome</th>\n",
              "    </tr>\n",
              "  </thead>\n",
              "  <tbody>\n",
              "    <tr>\n",
              "      <th>0</th>\n",
              "      <td>6</td>\n",
              "      <td>148</td>\n",
              "      <td>72</td>\n",
              "      <td>35</td>\n",
              "      <td>0</td>\n",
              "      <td>33.6</td>\n",
              "      <td>0.627</td>\n",
              "      <td>50</td>\n",
              "      <td>1</td>\n",
              "    </tr>\n",
              "    <tr>\n",
              "      <th>1</th>\n",
              "      <td>1</td>\n",
              "      <td>85</td>\n",
              "      <td>66</td>\n",
              "      <td>29</td>\n",
              "      <td>0</td>\n",
              "      <td>26.6</td>\n",
              "      <td>0.351</td>\n",
              "      <td>31</td>\n",
              "      <td>0</td>\n",
              "    </tr>\n",
              "    <tr>\n",
              "      <th>2</th>\n",
              "      <td>8</td>\n",
              "      <td>183</td>\n",
              "      <td>64</td>\n",
              "      <td>0</td>\n",
              "      <td>0</td>\n",
              "      <td>23.3</td>\n",
              "      <td>0.672</td>\n",
              "      <td>32</td>\n",
              "      <td>1</td>\n",
              "    </tr>\n",
              "    <tr>\n",
              "      <th>3</th>\n",
              "      <td>1</td>\n",
              "      <td>89</td>\n",
              "      <td>66</td>\n",
              "      <td>23</td>\n",
              "      <td>94</td>\n",
              "      <td>28.1</td>\n",
              "      <td>0.167</td>\n",
              "      <td>21</td>\n",
              "      <td>0</td>\n",
              "    </tr>\n",
              "    <tr>\n",
              "      <th>4</th>\n",
              "      <td>0</td>\n",
              "      <td>137</td>\n",
              "      <td>40</td>\n",
              "      <td>35</td>\n",
              "      <td>168</td>\n",
              "      <td>43.1</td>\n",
              "      <td>2.288</td>\n",
              "      <td>33</td>\n",
              "      <td>1</td>\n",
              "    </tr>\n",
              "    <tr>\n",
              "      <th>...</th>\n",
              "      <td>...</td>\n",
              "      <td>...</td>\n",
              "      <td>...</td>\n",
              "      <td>...</td>\n",
              "      <td>...</td>\n",
              "      <td>...</td>\n",
              "      <td>...</td>\n",
              "      <td>...</td>\n",
              "      <td>...</td>\n",
              "    </tr>\n",
              "    <tr>\n",
              "      <th>763</th>\n",
              "      <td>10</td>\n",
              "      <td>101</td>\n",
              "      <td>76</td>\n",
              "      <td>48</td>\n",
              "      <td>180</td>\n",
              "      <td>32.9</td>\n",
              "      <td>0.171</td>\n",
              "      <td>63</td>\n",
              "      <td>0</td>\n",
              "    </tr>\n",
              "    <tr>\n",
              "      <th>764</th>\n",
              "      <td>2</td>\n",
              "      <td>122</td>\n",
              "      <td>70</td>\n",
              "      <td>27</td>\n",
              "      <td>0</td>\n",
              "      <td>36.8</td>\n",
              "      <td>0.340</td>\n",
              "      <td>27</td>\n",
              "      <td>0</td>\n",
              "    </tr>\n",
              "    <tr>\n",
              "      <th>765</th>\n",
              "      <td>5</td>\n",
              "      <td>121</td>\n",
              "      <td>72</td>\n",
              "      <td>23</td>\n",
              "      <td>112</td>\n",
              "      <td>26.2</td>\n",
              "      <td>0.245</td>\n",
              "      <td>30</td>\n",
              "      <td>0</td>\n",
              "    </tr>\n",
              "    <tr>\n",
              "      <th>766</th>\n",
              "      <td>1</td>\n",
              "      <td>126</td>\n",
              "      <td>60</td>\n",
              "      <td>0</td>\n",
              "      <td>0</td>\n",
              "      <td>30.1</td>\n",
              "      <td>0.349</td>\n",
              "      <td>47</td>\n",
              "      <td>1</td>\n",
              "    </tr>\n",
              "    <tr>\n",
              "      <th>767</th>\n",
              "      <td>1</td>\n",
              "      <td>93</td>\n",
              "      <td>70</td>\n",
              "      <td>31</td>\n",
              "      <td>0</td>\n",
              "      <td>30.4</td>\n",
              "      <td>0.315</td>\n",
              "      <td>23</td>\n",
              "      <td>0</td>\n",
              "    </tr>\n",
              "  </tbody>\n",
              "</table>\n",
              "<p>768 rows × 9 columns</p>\n",
              "</div>"
            ],
            "text/plain": [
              "     Pregnancies  Glucose  ...  Age  Outcome\n",
              "0              6      148  ...   50        1\n",
              "1              1       85  ...   31        0\n",
              "2              8      183  ...   32        1\n",
              "3              1       89  ...   21        0\n",
              "4              0      137  ...   33        1\n",
              "..           ...      ...  ...  ...      ...\n",
              "763           10      101  ...   63        0\n",
              "764            2      122  ...   27        0\n",
              "765            5      121  ...   30        0\n",
              "766            1      126  ...   47        1\n",
              "767            1       93  ...   23        0\n",
              "\n",
              "[768 rows x 9 columns]"
            ]
          },
          "metadata": {},
          "execution_count": 71
        }
      ]
    },
    {
      "cell_type": "code",
      "metadata": {
        "colab": {
          "base_uri": "https://localhost:8080/",
          "height": 333
        },
        "id": "ASSQB5Xb4u62",
        "outputId": "58faf92a-a795-4e24-8b2e-311a2bffab30"
      },
      "source": [
        "sns.countplot(df.Outcome,data=df)\n",
        "plt.show()"
      ],
      "execution_count": null,
      "outputs": [
        {
          "output_type": "stream",
          "name": "stderr",
          "text": [
            "/usr/local/lib/python3.7/dist-packages/seaborn/_decorators.py:43: FutureWarning: Pass the following variable as a keyword arg: x. From version 0.12, the only valid positional argument will be `data`, and passing other arguments without an explicit keyword will result in an error or misinterpretation.\n",
            "  FutureWarning\n"
          ]
        },
        {
          "output_type": "display_data",
          "data": {
            "image/png": "[encoded data removed]",
            "text/plain": [
              "<Figure size 432x288 with 1 Axes>"
            ]
          },
          "metadata": {
            "needs_background": "light"
          }
        }
      ]
    },
    {
      "cell_type": "code",
      "metadata": {
        "colab": {
          "base_uri": "https://localhost:8080/",
          "height": 333
        },
        "id": "3ba9zCTR4xA3",
        "outputId": "6217634a-ae55-4659-e1c5-efc60e107af3"
      },
      "source": [
        "sns.distplot(df['Age'],kde=True)\n",
        "plt.show()"
      ],
      "execution_count": null,
      "outputs": [
        {
          "output_type": "stream",
          "name": "stderr",
          "text": [
            "/usr/local/lib/python3.7/dist-packages/seaborn/distributions.py:2619: FutureWarning: `distplot` is a deprecated function and will be removed in a future version. Please adapt your code to use either `displot` (a figure-level function with similar flexibility) or `histplot` (an axes-level function for histograms).\n",
            "  warnings.warn(msg, FutureWarning)\n"
          ]
        },
        {
          "output_type": "display_data",
          "data": {
            "image/png": "[encoded data removed]",
            "text/plain": [
              "<Figure size 432x288 with 1 Axes>"
            ]
          },
          "metadata": {
            "needs_background": "light"
          }
        }
      ]
    },
    {
      "cell_type": "code",
      "metadata": {
        "colab": {
          "base_uri": "https://localhost:8080/",
          "height": 333
        },
        "id": "u-WsPsJG46OB",
        "outputId": "8a47d7cc-e221-43fc-959a-694449e927e7"
      },
      "source": [
        "sns.distplot(df['Insulin'],kde=True)\n",
        "plt.show()"
      ],
      "execution_count": null,
      "outputs": [
        {
          "output_type": "stream",
          "name": "stderr",
          "text": [
            "/usr/local/lib/python3.7/dist-packages/seaborn/distributions.py:2619: FutureWarning: `distplot` is a deprecated function and will be removed in a future version. Please adapt your code to use either `displot` (a figure-level function with similar flexibility) or `histplot` (an axes-level function for histograms).\n",
            "  warnings.warn(msg, FutureWarning)\n"
          ]
        },
        {
          "output_type": "display_data",
          "data": {
            "image/png": "[encoded data removed]",
            "text/plain": [
              "<Figure size 432x288 with 1 Axes>"
            ]
          },
          "metadata": {
            "needs_background": "light"
          }
        }
      ]
    },
    {
      "cell_type": "code",
      "metadata": {
        "colab": {
          "base_uri": "https://localhost:8080/",
          "height": 684
        },
        "id": "wt9HGTob5G2P",
        "outputId": "30a43e64-4e5e-4ead-802a-4dabc36e0cbf"
      },
      "source": [
        "correlation_df = df.corr()\n",
        "plt.figure(figsize = (10,10))\n",
        "sns.heatmap(correlation_df)"
      ],
      "execution_count": null,
      "outputs": [
        {
          "output_type": "execute_result",
          "data": {
            "text/plain": [
              "<matplotlib.axes._subplots.AxesSubplot at 0x7f6af728b150>"
            ]
          },
          "metadata": {},
          "execution_count": 75
        },
        {
          "output_type": "display_data",
          "data": {
            "image/png": "[encoded data removed]",
            "text/plain": [
              "<Figure size 720x720 with 2 Axes>"
            ]
          },
          "metadata": {
            "needs_background": "light"
          }
        }
      ]
    },
    {
      "cell_type": "code",
      "metadata": {
        "colab": {
          "base_uri": "https://localhost:8080/",
          "height": 536
        },
        "id": "k_aptIec5Lpp",
        "outputId": "aedbb3e6-e351-4804-f233-4fe542467d06"
      },
      "source": [
        "df.hist(figsize = (12,10),color = 'blue')\n",
        "plt.show()"
      ],
      "execution_count": null,
      "outputs": [
        {
          "output_type": "display_data",
          "data": {
            "image/png": "[encoded data removed]",
            "text/plain": [
              "<Figure size 864x720 with 9 Axes>"
            ]
          },
          "metadata": {
            "needs_background": "light"
          }
        }
      ]
    },
    {
      "cell_type": "code",
      "metadata": {
        "colab": {
          "base_uri": "https://localhost:8080/",
          "height": 265
        },
        "id": "Xp4OadgB5mIi",
        "outputId": "ec50f305-a6bb-4afb-bccf-978a7ddabd7e"
      },
      "source": [
        "plt.hist(df['Age'],bins = [10,20,30,40,50,60,70,80,90])\n",
        "plt.show()"
      ],
      "execution_count": null,
      "outputs": [
        {
          "output_type": "display_data",
          "data": {
            "image/png": "[encoded data removed]",
            "text/plain": [
              "<Figure size 432x288 with 1 Axes>"
            ]
          },
          "metadata": {
            "needs_background": "light"
          }
        }
      ]
    },
    {
      "cell_type": "code",
      "metadata": {
        "colab": {
          "base_uri": "https://localhost:8080/",
          "height": 162
        },
        "id": "u1BndWzb55di",
        "outputId": "8e60f6f2-aea5-443f-8e7d-12c9316acae3"
      },
      "source": [
        "df.groupby(\"Outcome\").mean()"
      ],
      "execution_count": null,
      "outputs": [
        {
          "output_type": "execute_result",
          "data": {
            "text/html": [
              "<div>\n",
              "<style scoped>\n",
              "    .dataframe tbody tr th:only-of-type {\n",
              "        vertical-align: middle;\n",
              "    }\n",
              "\n",
              "    .dataframe tbody tr th {\n",
              "        vertical-align: top;\n",
              "    }\n",
              "\n",
              "    .dataframe thead th {\n",
              "        text-align: right;\n",
              "    }\n",
              "</style>\n",
              "<table border=\"1\" class=\"dataframe\">\n",
              "  <thead>\n",
              "    <tr style=\"text-align: right;\">\n",
              "      <th></th>\n",
              "      <th>Pregnancies</th>\n",
              "      <th>Glucose</th>\n",
              "      <th>BloodPressure</th>\n",
              "      <th>SkinThickness</th>\n",
              "      <th>Insulin</th>\n",
              "      <th>BMI</th>\n",
              "      <th>DiabetesPedigreeFunction</th>\n",
              "      <th>Age</th>\n",
              "    </tr>\n",
              "    <tr>\n",
              "      <th>Outcome</th>\n",
              "      <th></th>\n",
              "      <th></th>\n",
              "      <th></th>\n",
              "      <th></th>\n",
              "      <th></th>\n",
              "      <th></th>\n",
              "      <th></th>\n",
              "      <th></th>\n",
              "    </tr>\n",
              "  </thead>\n",
              "  <tbody>\n",
              "    <tr>\n",
              "      <th>0</th>\n",
              "      <td>3.298000</td>\n",
              "      <td>109.980000</td>\n",
              "      <td>68.184000</td>\n",
              "      <td>19.664000</td>\n",
              "      <td>68.792000</td>\n",
              "      <td>30.304200</td>\n",
              "      <td>0.429734</td>\n",
              "      <td>31.190000</td>\n",
              "    </tr>\n",
              "    <tr>\n",
              "      <th>1</th>\n",
              "      <td>4.865672</td>\n",
              "      <td>141.257463</td>\n",
              "      <td>70.824627</td>\n",
              "      <td>22.164179</td>\n",
              "      <td>100.335821</td>\n",
              "      <td>35.142537</td>\n",
              "      <td>0.550500</td>\n",
              "      <td>37.067164</td>\n",
              "    </tr>\n",
              "  </tbody>\n",
              "</table>\n",
              "</div>"
            ],
            "text/plain": [
              "         Pregnancies     Glucose  ...  DiabetesPedigreeFunction        Age\n",
              "Outcome                           ...                                     \n",
              "0           3.298000  109.980000  ...                  0.429734  31.190000\n",
              "1           4.865672  141.257463  ...                  0.550500  37.067164\n",
              "\n",
              "[2 rows x 8 columns]"
            ]
          },
          "metadata": {},
          "execution_count": 78
        }
      ]
    },
    {
      "cell_type": "code",
      "metadata": {
        "colab": {
          "base_uri": "https://localhost:8080/",
          "height": 279
        },
        "id": "sclIk0Al5_Ns",
        "outputId": "174f65c7-408a-428d-a16a-1c09b8d48b6e"
      },
      "source": [
        "sns.boxplot(x='Outcome',y='Insulin',data=df)\n",
        "plt.show()"
      ],
      "execution_count": null,
      "outputs": [
        {
          "output_type": "display_data",
          "data": {
            "image/png": "[encoded data removed]",
            "text/plain": [
              "<Figure size 432x288 with 1 Axes>"
            ]
          },
          "metadata": {
            "needs_background": "light"
          }
        }
      ]
    },
    {
      "cell_type": "code",
      "metadata": {
        "id": "pd75YQnZ6Ocn"
      },
      "source": [
        ""
      ],
      "execution_count": null,
      "outputs": []
    },
    {
      "cell_type": "code",
      "metadata": {
        "id": "zUA1FgvG-vnD"
      },
      "source": [
        "from tensorflow.keras.models import Sequential\n",
        "from tensorflow.keras.layers import Dense\n",
        "from tensorflow.keras.utils import to_categorical\n",
        "from sklearn.model_selection import train_test_split"
      ],
      "execution_count": null,
      "outputs": []
    },
    {
      "cell_type": "code",
      "metadata": {
        "colab": {
          "base_uri": "https://localhost:8080/"
        },
        "id": "Mkb-0UnQ_Xey",
        "outputId": "f3c68fe1-f9be-4957-c283-0e81ff2bccbf"
      },
      "source": [
        "output_classes = len(output.unique())\n",
        "print(output_classes)\n",
        "X = features.values\n",
        "y = output.values\n",
        "\n",
        "print(X.shape)\n",
        "print(y.shape)\n"
      ],
      "execution_count": null,
      "outputs": [
        {
          "output_type": "stream",
          "name": "stdout",
          "text": [
            "2\n",
            "(768, 8)\n",
            "(768,)\n"
          ]
        }
      ]
    },
    {
      "cell_type": "code",
      "metadata": {
        "colab": {
          "base_uri": "https://localhost:8080/"
        },
        "id": "SWWYaM5g_uD9",
        "outputId": "2df270bd-8741-43f2-9391-e01cc8b86248"
      },
      "source": [
        "X_train, X_test, y_train, y_test = train_test_split(X, \n",
        "                                                    y,\n",
        "                                                    test_size=0.30)\n",
        "\n",
        "print(\"Orginal shape of X: \", X.shape)\n",
        "print(\"Orginal shape of y: \", y.shape)\n",
        "print(\"shape of X_train: \", X_train.shape)\n",
        "print(\"shape of X_test: \", X_test.shape)\n",
        "print(\"shape of y_train: \", y_train.shape)\n",
        "print(\"shape of y_test: \", y_test.shape)"
      ],
      "execution_count": null,
      "outputs": [
        {
          "output_type": "stream",
          "name": "stdout",
          "text": [
            "Orginal shape of X:  (768, 8)\n",
            "Orginal shape of y:  (768,)\n",
            "shape of X_train:  (537, 8)\n",
            "shape of X_test:  (231, 8)\n",
            "shape of y_train:  (537,)\n",
            "shape of y_test:  (231,)\n"
          ]
        }
      ]
    },
    {
      "cell_type": "code",
      "metadata": {
        "id": "vOje3lggAHDx"
      },
      "source": [
        ""
      ],
      "execution_count": null,
      "outputs": []
    },
    {
      "cell_type": "code",
      "metadata": {
        "colab": {
          "base_uri": "https://localhost:8080/"
        },
        "id": "XKxLNSug_90x",
        "outputId": "42f966e6-0e56-4dc9-b061-4dd2d3d3a684"
      },
      "source": [
        "print(\"Categorical conversion of y_train & y_test\")\n",
        "y_train = to_categorical(y_train, num_classes = output_classes, dtype =\"uint8\")\n",
        "Y_test = to_categorical(y_test,num_classes = output_classes, dtype =\"uint8\")\n"
      ],
      "execution_count": null,
      "outputs": [
        {
          "output_type": "stream",
          "name": "stdout",
          "text": [
            "Categorical conversion of y_train & y_test\n"
          ]
        }
      ]
    },
    {
      "cell_type": "code",
      "metadata": {
        "colab": {
          "base_uri": "https://localhost:8080/"
        },
        "id": "3r6CozEZ4Kyn",
        "outputId": "22d6fc56-ee5e-4a2d-ca55-c2efa2aa4d8c"
      },
      "source": [
        "#Model creation, compilation, and training\n",
        "model = Sequential()\n",
        "model.add(Dense(units=18, activation='relu'))\n",
        "model.add(Dense(units=12, activation='relu'))\n",
        "model.add(Dense(units=8, activation='relu'))\n",
        "\n",
        "model.add(Dense(units=output_classes, activation='sigmoid'))\n",
        "\n",
        "model.compile(loss='categorical_crossentropy',\n",
        "              optimizer='adam',\n",
        "              metrics=['accuracy'])\n",
        "\n",
        "\n",
        "model.fit(X_train, y_train, epochs=300, batch_size=32)\n"
      ],
      "execution_count": null,
      "outputs": [
        {
          "output_type": "stream",
          "name": "stdout",
          "text": [
            "Epoch 1/300\n",
            "17/17 [==============================] - 1s 2ms/step - loss: 35.8022 - accuracy: 0.6667\n",
            "Epoch 2/300\n",
            "17/17 [==============================] - 0s 2ms/step - loss: 25.1196 - accuracy: 0.6667\n",
            "Epoch 3/300\n",
            "17/17 [==============================] - 0s 2ms/step - loss: 17.9895 - accuracy: 0.6667\n",
            "Epoch 4/300\n",
            "17/17 [==============================] - 0s 2ms/step - loss: 12.7403 - accuracy: 0.6667\n",
            "Epoch 5/300\n",
            "17/17 [==============================] - 0s 2ms/step - loss: 8.5842 - accuracy: 0.6667\n",
            "Epoch 6/300\n",
            "17/17 [==============================] - 0s 2ms/step - loss: 5.6290 - accuracy: 0.6667\n",
            "Epoch 7/300\n",
            "17/17 [==============================] - 0s 2ms/step - loss: 3.5845 - accuracy: 0.6629\n",
            "Epoch 8/300\n",
            "17/17 [==============================] - 0s 2ms/step - loss: 2.4725 - accuracy: 0.6462\n",
            "Epoch 9/300\n",
            "17/17 [==============================] - 0s 2ms/step - loss: 1.8007 - accuracy: 0.6127\n",
            "Epoch 10/300\n",
            "17/17 [==============================] - 0s 2ms/step - loss: 1.3341 - accuracy: 0.5885\n",
            "Epoch 11/300\n",
            "17/17 [==============================] - 0s 2ms/step - loss: 0.9765 - accuracy: 0.6052\n",
            "Epoch 12/300\n",
            "17/17 [==============================] - 0s 2ms/step - loss: 0.7869 - accuracy: 0.5791\n",
            "Epoch 13/300\n",
            "17/17 [==============================] - 0s 2ms/step - loss: 0.7003 - accuracy: 0.5922\n",
            "Epoch 14/300\n",
            "17/17 [==============================] - 0s 2ms/step - loss: 0.6634 - accuracy: 0.6406\n",
            "Epoch 15/300\n",
            "17/17 [==============================] - 0s 2ms/step - loss: 0.6515 - accuracy: 0.6555\n",
            "Epoch 16/300\n",
            "17/17 [==============================] - 0s 2ms/step - loss: 0.6445 - accuracy: 0.6518\n",
            "Epoch 17/300\n",
            "17/17 [==============================] - 0s 2ms/step - loss: 0.6389 - accuracy: 0.6574\n",
            "Epoch 18/300\n",
            "17/17 [==============================] - 0s 2ms/step - loss: 0.6355 - accuracy: 0.6462\n",
            "Epoch 19/300\n",
            "17/17 [==============================] - 0s 1ms/step - loss: 0.6332 - accuracy: 0.6518\n",
            "Epoch 20/300\n",
            "17/17 [==============================] - 0s 2ms/step - loss: 0.6295 - accuracy: 0.6555\n",
            "Epoch 21/300\n",
            "17/17 [==============================] - 0s 2ms/step - loss: 0.6267 - accuracy: 0.6611\n",
            "Epoch 22/300\n",
            "17/17 [==============================] - 0s 2ms/step - loss: 0.6227 - accuracy: 0.6629\n",
            "Epoch 23/300\n",
            "17/17 [==============================] - 0s 2ms/step - loss: 0.6202 - accuracy: 0.6648\n",
            "Epoch 24/300\n",
            "17/17 [==============================] - 0s 2ms/step - loss: 0.6184 - accuracy: 0.6629\n",
            "Epoch 25/300\n",
            "17/17 [==============================] - 0s 2ms/step - loss: 0.6170 - accuracy: 0.6667\n",
            "Epoch 26/300\n",
            "17/17 [==============================] - 0s 2ms/step - loss: 0.6156 - accuracy: 0.6667\n",
            "Epoch 27/300\n",
            "17/17 [==============================] - 0s 2ms/step - loss: 0.6155 - accuracy: 0.6685\n",
            "Epoch 28/300\n",
            "17/17 [==============================] - 0s 2ms/step - loss: 0.6129 - accuracy: 0.6704\n",
            "Epoch 29/300\n",
            "17/17 [==============================] - 0s 2ms/step - loss: 0.6128 - accuracy: 0.6685\n",
            "Epoch 30/300\n",
            "17/17 [==============================] - 0s 2ms/step - loss: 0.6136 - accuracy: 0.6704\n",
            "Epoch 31/300\n",
            "17/17 [==============================] - 0s 2ms/step - loss: 0.6137 - accuracy: 0.6685\n",
            "Epoch 32/300\n",
            "17/17 [==============================] - 0s 2ms/step - loss: 0.6102 - accuracy: 0.6685\n",
            "Epoch 33/300\n",
            "17/17 [==============================] - 0s 2ms/step - loss: 0.6111 - accuracy: 0.6723\n",
            "Epoch 34/300\n",
            "17/17 [==============================] - 0s 2ms/step - loss: 0.6111 - accuracy: 0.6723\n",
            "Epoch 35/300\n",
            "17/17 [==============================] - 0s 2ms/step - loss: 0.6095 - accuracy: 0.6723\n",
            "Epoch 36/300\n",
            "17/17 [==============================] - 0s 2ms/step - loss: 0.6072 - accuracy: 0.6741\n",
            "Epoch 37/300\n",
            "17/17 [==============================] - 0s 2ms/step - loss: 0.6066 - accuracy: 0.6723\n",
            "Epoch 38/300\n",
            "17/17 [==============================] - 0s 2ms/step - loss: 0.6073 - accuracy: 0.6704\n",
            "Epoch 39/300\n",
            "17/17 [==============================] - 0s 2ms/step - loss: 0.6035 - accuracy: 0.6723\n",
            "Epoch 40/300\n",
            "17/17 [==============================] - 0s 2ms/step - loss: 0.6076 - accuracy: 0.6704\n",
            "Epoch 41/300\n",
            "17/17 [==============================] - 0s 2ms/step - loss: 0.6106 - accuracy: 0.6667\n",
            "Epoch 42/300\n",
            "17/17 [==============================] - 0s 2ms/step - loss: 0.6035 - accuracy: 0.6685\n",
            "Epoch 43/300\n",
            "17/17 [==============================] - 0s 2ms/step - loss: 0.6051 - accuracy: 0.6723\n",
            "Epoch 44/300\n",
            "17/17 [==============================] - 0s 2ms/step - loss: 0.6061 - accuracy: 0.6704\n",
            "Epoch 45/300\n",
            "17/17 [==============================] - 0s 2ms/step - loss: 0.6009 - accuracy: 0.6723\n",
            "Epoch 46/300\n",
            "17/17 [==============================] - 0s 2ms/step - loss: 0.6008 - accuracy: 0.6723\n",
            "Epoch 47/300\n",
            "17/17 [==============================] - 0s 1ms/step - loss: 0.5993 - accuracy: 0.6723\n",
            "Epoch 48/300\n",
            "17/17 [==============================] - 0s 2ms/step - loss: 0.5993 - accuracy: 0.6667\n",
            "Epoch 49/300\n",
            "17/17 [==============================] - 0s 2ms/step - loss: 0.5978 - accuracy: 0.6704\n",
            "Epoch 50/300\n",
            "17/17 [==============================] - 0s 2ms/step - loss: 0.6083 - accuracy: 0.6685\n",
            "Epoch 51/300\n",
            "17/17 [==============================] - 0s 2ms/step - loss: 0.6027 - accuracy: 0.6685\n",
            "Epoch 52/300\n",
            "17/17 [==============================] - 0s 2ms/step - loss: 0.5944 - accuracy: 0.6723\n",
            "Epoch 53/300\n",
            "17/17 [==============================] - 0s 2ms/step - loss: 0.5934 - accuracy: 0.6704\n",
            "Epoch 54/300\n",
            "17/17 [==============================] - 0s 2ms/step - loss: 0.5942 - accuracy: 0.6723\n",
            "Epoch 55/300\n",
            "17/17 [==============================] - 0s 1ms/step - loss: 0.5934 - accuracy: 0.6704\n",
            "Epoch 56/300\n",
            "17/17 [==============================] - 0s 2ms/step - loss: 0.5927 - accuracy: 0.6760\n",
            "Epoch 57/300\n",
            "17/17 [==============================] - 0s 2ms/step - loss: 0.5895 - accuracy: 0.6704\n",
            "Epoch 58/300\n",
            "17/17 [==============================] - 0s 2ms/step - loss: 0.5897 - accuracy: 0.6778\n",
            "Epoch 59/300\n",
            "17/17 [==============================] - 0s 2ms/step - loss: 0.5886 - accuracy: 0.6723\n",
            "Epoch 60/300\n",
            "17/17 [==============================] - 0s 2ms/step - loss: 0.5880 - accuracy: 0.6760\n",
            "Epoch 61/300\n",
            "17/17 [==============================] - 0s 2ms/step - loss: 0.5881 - accuracy: 0.6741\n",
            "Epoch 62/300\n",
            "17/17 [==============================] - 0s 2ms/step - loss: 0.5870 - accuracy: 0.6704\n",
            "Epoch 63/300\n",
            "17/17 [==============================] - 0s 2ms/step - loss: 0.5878 - accuracy: 0.6723\n",
            "Epoch 64/300\n",
            "17/17 [==============================] - 0s 2ms/step - loss: 0.5988 - accuracy: 0.6685\n",
            "Epoch 65/300\n",
            "17/17 [==============================] - 0s 2ms/step - loss: 0.6031 - accuracy: 0.6704\n",
            "Epoch 66/300\n",
            "17/17 [==============================] - 0s 2ms/step - loss: 0.5990 - accuracy: 0.6685\n",
            "Epoch 67/300\n",
            "17/17 [==============================] - 0s 2ms/step - loss: 0.5885 - accuracy: 0.6704\n",
            "Epoch 68/300\n",
            "17/17 [==============================] - 0s 2ms/step - loss: 0.5893 - accuracy: 0.6667\n",
            "Epoch 69/300\n",
            "17/17 [==============================] - 0s 2ms/step - loss: 0.5869 - accuracy: 0.6704\n",
            "Epoch 70/300\n",
            "17/17 [==============================] - 0s 2ms/step - loss: 0.5841 - accuracy: 0.6723\n",
            "Epoch 71/300\n",
            "17/17 [==============================] - 0s 1ms/step - loss: 0.5856 - accuracy: 0.6685\n",
            "Epoch 72/300\n",
            "17/17 [==============================] - 0s 2ms/step - loss: 0.6023 - accuracy: 0.6704\n",
            "Epoch 73/300\n",
            "17/17 [==============================] - 0s 2ms/step - loss: 0.5895 - accuracy: 0.6760\n",
            "Epoch 74/300\n",
            "17/17 [==============================] - 0s 2ms/step - loss: 0.5872 - accuracy: 0.6741\n",
            "Epoch 75/300\n",
            "17/17 [==============================] - 0s 2ms/step - loss: 0.5830 - accuracy: 0.6741\n",
            "Epoch 76/300\n",
            "17/17 [==============================] - 0s 2ms/step - loss: 0.5822 - accuracy: 0.6797\n",
            "Epoch 77/300\n",
            "17/17 [==============================] - 0s 2ms/step - loss: 0.5861 - accuracy: 0.6723\n",
            "Epoch 78/300\n",
            "17/17 [==============================] - 0s 2ms/step - loss: 0.5867 - accuracy: 0.6704\n",
            "Epoch 79/300\n",
            "17/17 [==============================] - 0s 1ms/step - loss: 0.5853 - accuracy: 0.6723\n",
            "Epoch 80/300\n",
            "17/17 [==============================] - 0s 2ms/step - loss: 0.5881 - accuracy: 0.6704\n",
            "Epoch 81/300\n",
            "17/17 [==============================] - 0s 2ms/step - loss: 0.5842 - accuracy: 0.6741\n",
            "Epoch 82/300\n",
            "17/17 [==============================] - 0s 3ms/step - loss: 0.5812 - accuracy: 0.6741\n",
            "Epoch 83/300\n",
            "17/17 [==============================] - 0s 2ms/step - loss: 0.5803 - accuracy: 0.6723\n",
            "Epoch 84/300\n",
            "17/17 [==============================] - 0s 2ms/step - loss: 0.5812 - accuracy: 0.6778\n",
            "Epoch 85/300\n",
            "17/17 [==============================] - 0s 2ms/step - loss: 0.5875 - accuracy: 0.6723\n",
            "Epoch 86/300\n",
            "17/17 [==============================] - 0s 2ms/step - loss: 0.5801 - accuracy: 0.6797\n",
            "Epoch 87/300\n",
            "17/17 [==============================] - 0s 2ms/step - loss: 0.5803 - accuracy: 0.6816\n",
            "Epoch 88/300\n",
            "17/17 [==============================] - 0s 2ms/step - loss: 0.5781 - accuracy: 0.6723\n",
            "Epoch 89/300\n",
            "17/17 [==============================] - 0s 2ms/step - loss: 0.5855 - accuracy: 0.6685\n",
            "Epoch 90/300\n",
            "17/17 [==============================] - 0s 2ms/step - loss: 0.5840 - accuracy: 0.6778\n",
            "Epoch 91/300\n",
            "17/17 [==============================] - 0s 2ms/step - loss: 0.5784 - accuracy: 0.6760\n",
            "Epoch 92/300\n",
            "17/17 [==============================] - 0s 2ms/step - loss: 0.5754 - accuracy: 0.6704\n",
            "Epoch 93/300\n",
            "17/17 [==============================] - 0s 2ms/step - loss: 0.5798 - accuracy: 0.6741\n",
            "Epoch 94/300\n",
            "17/17 [==============================] - 0s 2ms/step - loss: 0.5803 - accuracy: 0.6741\n",
            "Epoch 95/300\n",
            "17/17 [==============================] - 0s 2ms/step - loss: 0.5754 - accuracy: 0.6741\n",
            "Epoch 96/300\n",
            "17/17 [==============================] - 0s 2ms/step - loss: 0.5807 - accuracy: 0.6741\n",
            "Epoch 97/300\n",
            "17/17 [==============================] - 0s 2ms/step - loss: 0.5817 - accuracy: 0.6723\n",
            "Epoch 98/300\n",
            "17/17 [==============================] - 0s 2ms/step - loss: 0.5757 - accuracy: 0.6760\n",
            "Epoch 99/300\n",
            "17/17 [==============================] - 0s 2ms/step - loss: 0.5743 - accuracy: 0.6778\n",
            "Epoch 100/300\n",
            "17/17 [==============================] - 0s 2ms/step - loss: 0.5754 - accuracy: 0.6741\n",
            "Epoch 101/300\n",
            "17/17 [==============================] - 0s 2ms/step - loss: 0.5751 - accuracy: 0.6741\n",
            "Epoch 102/300\n",
            "17/17 [==============================] - 0s 2ms/step - loss: 0.5724 - accuracy: 0.6778\n",
            "Epoch 103/300\n",
            "17/17 [==============================] - 0s 2ms/step - loss: 0.5692 - accuracy: 0.6778\n",
            "Epoch 104/300\n",
            "17/17 [==============================] - 0s 2ms/step - loss: 0.5702 - accuracy: 0.6778\n",
            "Epoch 105/300\n",
            "17/17 [==============================] - 0s 2ms/step - loss: 0.5704 - accuracy: 0.6778\n",
            "Epoch 106/300\n",
            "17/17 [==============================] - 0s 2ms/step - loss: 0.5688 - accuracy: 0.6741\n",
            "Epoch 107/300\n",
            "17/17 [==============================] - 0s 2ms/step - loss: 0.5748 - accuracy: 0.6723\n",
            "Epoch 108/300\n",
            "17/17 [==============================] - 0s 2ms/step - loss: 0.5761 - accuracy: 0.6667\n",
            "Epoch 109/300\n",
            "17/17 [==============================] - 0s 2ms/step - loss: 0.5709 - accuracy: 0.6704\n",
            "Epoch 110/300\n",
            "17/17 [==============================] - 0s 2ms/step - loss: 0.5786 - accuracy: 0.6704\n",
            "Epoch 111/300\n",
            "17/17 [==============================] - 0s 2ms/step - loss: 0.5727 - accuracy: 0.6704\n",
            "Epoch 112/300\n",
            "17/17 [==============================] - 0s 2ms/step - loss: 0.5784 - accuracy: 0.6704\n",
            "Epoch 113/300\n",
            "17/17 [==============================] - 0s 2ms/step - loss: 0.5705 - accuracy: 0.6704\n",
            "Epoch 114/300\n",
            "17/17 [==============================] - 0s 2ms/step - loss: 0.5794 - accuracy: 0.6704\n",
            "Epoch 115/300\n",
            "17/17 [==============================] - 0s 2ms/step - loss: 0.5817 - accuracy: 0.6685\n",
            "Epoch 116/300\n",
            "17/17 [==============================] - 0s 2ms/step - loss: 0.5752 - accuracy: 0.6704\n",
            "Epoch 117/300\n",
            "17/17 [==============================] - 0s 3ms/step - loss: 0.5734 - accuracy: 0.6685\n",
            "Epoch 118/300\n",
            "17/17 [==============================] - 0s 2ms/step - loss: 0.5694 - accuracy: 0.6704\n",
            "Epoch 119/300\n",
            "17/17 [==============================] - 0s 2ms/step - loss: 0.5685 - accuracy: 0.6704\n",
            "Epoch 120/300\n",
            "17/17 [==============================] - 0s 2ms/step - loss: 0.5679 - accuracy: 0.6704\n",
            "Epoch 121/300\n",
            "17/17 [==============================] - 0s 2ms/step - loss: 0.5637 - accuracy: 0.6704\n",
            "Epoch 122/300\n",
            "17/17 [==============================] - 0s 2ms/step - loss: 0.5648 - accuracy: 0.6704\n",
            "Epoch 123/300\n",
            "17/17 [==============================] - 0s 2ms/step - loss: 0.5699 - accuracy: 0.6704\n",
            "Epoch 124/300\n",
            "17/17 [==============================] - 0s 2ms/step - loss: 0.5680 - accuracy: 0.6704\n",
            "Epoch 125/300\n",
            "17/17 [==============================] - 0s 2ms/step - loss: 0.5655 - accuracy: 0.6704\n",
            "Epoch 126/300\n",
            "17/17 [==============================] - 0s 2ms/step - loss: 0.5700 - accuracy: 0.6704\n",
            "Epoch 127/300\n",
            "17/17 [==============================] - 0s 2ms/step - loss: 0.5634 - accuracy: 0.6704\n",
            "Epoch 128/300\n",
            "17/17 [==============================] - 0s 2ms/step - loss: 0.5708 - accuracy: 0.6704\n",
            "Epoch 129/300\n",
            "17/17 [==============================] - 0s 2ms/step - loss: 0.5641 - accuracy: 0.6704\n",
            "Epoch 130/300\n",
            "17/17 [==============================] - 0s 2ms/step - loss: 0.5742 - accuracy: 0.6704\n",
            "Epoch 131/300\n",
            "17/17 [==============================] - 0s 2ms/step - loss: 0.5656 - accuracy: 0.6685\n",
            "Epoch 132/300\n",
            "17/17 [==============================] - 0s 2ms/step - loss: 0.5640 - accuracy: 0.6704\n",
            "Epoch 133/300\n",
            "17/17 [==============================] - 0s 2ms/step - loss: 0.5653 - accuracy: 0.6704\n",
            "Epoch 134/300\n",
            "17/17 [==============================] - 0s 2ms/step - loss: 0.5626 - accuracy: 0.6704\n",
            "Epoch 135/300\n",
            "17/17 [==============================] - 0s 2ms/step - loss: 0.5626 - accuracy: 0.6704\n",
            "Epoch 136/300\n",
            "17/17 [==============================] - 0s 3ms/step - loss: 0.5639 - accuracy: 0.6704\n",
            "Epoch 137/300\n",
            "17/17 [==============================] - 0s 2ms/step - loss: 0.5609 - accuracy: 0.6685\n",
            "Epoch 138/300\n",
            "17/17 [==============================] - 0s 2ms/step - loss: 0.5614 - accuracy: 0.6704\n",
            "Epoch 139/300\n",
            "17/17 [==============================] - 0s 2ms/step - loss: 0.5628 - accuracy: 0.6704\n",
            "Epoch 140/300\n",
            "17/17 [==============================] - 0s 2ms/step - loss: 0.5663 - accuracy: 0.6704\n",
            "Epoch 141/300\n",
            "17/17 [==============================] - 0s 2ms/step - loss: 0.5640 - accuracy: 0.6704\n",
            "Epoch 142/300\n",
            "17/17 [==============================] - 0s 2ms/step - loss: 0.5625 - accuracy: 0.6704\n",
            "Epoch 143/300\n",
            "17/17 [==============================] - 0s 2ms/step - loss: 0.5640 - accuracy: 0.6704\n",
            "Epoch 144/300\n",
            "17/17 [==============================] - 0s 2ms/step - loss: 0.5637 - accuracy: 0.6704\n",
            "Epoch 145/300\n",
            "17/17 [==============================] - 0s 2ms/step - loss: 0.5595 - accuracy: 0.6685\n",
            "Epoch 146/300\n",
            "17/17 [==============================] - 0s 2ms/step - loss: 0.5608 - accuracy: 0.6704\n",
            "Epoch 147/300\n",
            "17/17 [==============================] - 0s 2ms/step - loss: 0.5632 - accuracy: 0.6704\n",
            "Epoch 148/300\n",
            "17/17 [==============================] - 0s 2ms/step - loss: 0.5684 - accuracy: 0.6704\n",
            "Epoch 149/300\n",
            "17/17 [==============================] - 0s 2ms/step - loss: 0.5673 - accuracy: 0.6685\n",
            "Epoch 150/300\n",
            "17/17 [==============================] - 0s 2ms/step - loss: 0.5702 - accuracy: 0.6685\n",
            "Epoch 151/300\n",
            "17/17 [==============================] - 0s 2ms/step - loss: 0.5584 - accuracy: 0.6685\n",
            "Epoch 152/300\n",
            "17/17 [==============================] - 0s 2ms/step - loss: 0.5583 - accuracy: 0.6685\n",
            "Epoch 153/300\n",
            "17/17 [==============================] - 0s 2ms/step - loss: 0.5612 - accuracy: 0.6685\n",
            "Epoch 154/300\n",
            "17/17 [==============================] - 0s 2ms/step - loss: 0.5663 - accuracy: 0.6704\n",
            "Epoch 155/300\n",
            "17/17 [==============================] - 0s 2ms/step - loss: 0.5649 - accuracy: 0.6704\n",
            "Epoch 156/300\n",
            "17/17 [==============================] - 0s 2ms/step - loss: 0.5586 - accuracy: 0.6685\n",
            "Epoch 157/300\n",
            "17/17 [==============================] - 0s 2ms/step - loss: 0.5590 - accuracy: 0.6704\n",
            "Epoch 158/300\n",
            "17/17 [==============================] - 0s 2ms/step - loss: 0.5562 - accuracy: 0.6723\n",
            "Epoch 159/300\n",
            "17/17 [==============================] - 0s 2ms/step - loss: 0.5592 - accuracy: 0.6704\n",
            "Epoch 160/300\n",
            "17/17 [==============================] - 0s 2ms/step - loss: 0.5580 - accuracy: 0.6704\n",
            "Epoch 161/300\n",
            "17/17 [==============================] - 0s 2ms/step - loss: 0.5586 - accuracy: 0.6704\n",
            "Epoch 162/300\n",
            "17/17 [==============================] - 0s 2ms/step - loss: 0.5622 - accuracy: 0.6685\n",
            "Epoch 163/300\n",
            "17/17 [==============================] - 0s 2ms/step - loss: 0.5556 - accuracy: 0.6685\n",
            "Epoch 164/300\n",
            "17/17 [==============================] - 0s 2ms/step - loss: 0.5592 - accuracy: 0.6667\n",
            "Epoch 165/300\n",
            "17/17 [==============================] - 0s 2ms/step - loss: 0.5583 - accuracy: 0.6685\n",
            "Epoch 166/300\n",
            "17/17 [==============================] - 0s 2ms/step - loss: 0.5563 - accuracy: 0.6704\n",
            "Epoch 167/300\n",
            "17/17 [==============================] - 0s 2ms/step - loss: 0.5679 - accuracy: 0.6685\n",
            "Epoch 168/300\n",
            "17/17 [==============================] - 0s 2ms/step - loss: 0.5746 - accuracy: 0.6685\n",
            "Epoch 169/300\n",
            "17/17 [==============================] - 0s 2ms/step - loss: 0.5932 - accuracy: 0.6704\n",
            "Epoch 170/300\n",
            "17/17 [==============================] - 0s 2ms/step - loss: 0.5624 - accuracy: 0.6704\n",
            "Epoch 171/300\n",
            "17/17 [==============================] - 0s 2ms/step - loss: 0.5616 - accuracy: 0.6704\n",
            "Epoch 172/300\n",
            "17/17 [==============================] - 0s 2ms/step - loss: 0.5558 - accuracy: 0.6704\n",
            "Epoch 173/300\n",
            "17/17 [==============================] - 0s 2ms/step - loss: 0.5578 - accuracy: 0.6704\n",
            "Epoch 174/300\n",
            "17/17 [==============================] - 0s 2ms/step - loss: 0.5526 - accuracy: 0.6704\n",
            "Epoch 175/300\n",
            "17/17 [==============================] - 0s 2ms/step - loss: 0.5674 - accuracy: 0.6704\n",
            "Epoch 176/300\n",
            "17/17 [==============================] - 0s 2ms/step - loss: 0.5731 - accuracy: 0.6704\n",
            "Epoch 177/300\n",
            "17/17 [==============================] - 0s 2ms/step - loss: 0.5647 - accuracy: 0.6685\n",
            "Epoch 178/300\n",
            "17/17 [==============================] - 0s 2ms/step - loss: 0.5787 - accuracy: 0.6704\n",
            "Epoch 179/300\n",
            "17/17 [==============================] - 0s 2ms/step - loss: 0.5759 - accuracy: 0.6704\n",
            "Epoch 180/300\n",
            "17/17 [==============================] - 0s 2ms/step - loss: 0.5671 - accuracy: 0.6723\n",
            "Epoch 181/300\n",
            "17/17 [==============================] - 0s 2ms/step - loss: 0.5704 - accuracy: 0.6704\n",
            "Epoch 182/300\n",
            "17/17 [==============================] - 0s 2ms/step - loss: 0.5645 - accuracy: 0.6704\n",
            "Epoch 183/300\n",
            "17/17 [==============================] - 0s 2ms/step - loss: 0.5596 - accuracy: 0.6685\n",
            "Epoch 184/300\n",
            "17/17 [==============================] - 0s 2ms/step - loss: 0.5622 - accuracy: 0.6685\n",
            "Epoch 185/300\n",
            "17/17 [==============================] - 0s 2ms/step - loss: 0.5618 - accuracy: 0.6723\n",
            "Epoch 186/300\n",
            "17/17 [==============================] - 0s 2ms/step - loss: 0.5704 - accuracy: 0.6704\n",
            "Epoch 187/300\n",
            "17/17 [==============================] - 0s 2ms/step - loss: 0.5694 - accuracy: 0.6704\n",
            "Epoch 188/300\n",
            "17/17 [==============================] - 0s 2ms/step - loss: 0.5671 - accuracy: 0.6704\n",
            "Epoch 189/300\n",
            "17/17 [==============================] - 0s 2ms/step - loss: 0.5656 - accuracy: 0.6685\n",
            "Epoch 190/300\n",
            "17/17 [==============================] - 0s 2ms/step - loss: 0.5612 - accuracy: 0.6667\n",
            "Epoch 191/300\n",
            "17/17 [==============================] - 0s 2ms/step - loss: 0.5673 - accuracy: 0.6872\n",
            "Epoch 192/300\n",
            "17/17 [==============================] - 0s 2ms/step - loss: 0.5633 - accuracy: 0.6890\n",
            "Epoch 193/300\n",
            "17/17 [==============================] - 0s 2ms/step - loss: 0.5644 - accuracy: 0.6834\n",
            "Epoch 194/300\n",
            "17/17 [==============================] - 0s 2ms/step - loss: 0.5619 - accuracy: 0.6983\n",
            "Epoch 195/300\n",
            "17/17 [==============================] - 0s 2ms/step - loss: 0.5614 - accuracy: 0.6723\n",
            "Epoch 196/300\n",
            "17/17 [==============================] - 0s 2ms/step - loss: 0.5642 - accuracy: 0.6425\n",
            "Epoch 197/300\n",
            "17/17 [==============================] - 0s 2ms/step - loss: 0.5563 - accuracy: 0.6443\n",
            "Epoch 198/300\n",
            "17/17 [==============================] - 0s 2ms/step - loss: 0.5592 - accuracy: 0.6331\n",
            "Epoch 199/300\n",
            "17/17 [==============================] - 0s 2ms/step - loss: 0.5544 - accuracy: 0.6592\n",
            "Epoch 200/300\n",
            "17/17 [==============================] - 0s 2ms/step - loss: 0.5583 - accuracy: 0.6741\n",
            "Epoch 201/300\n",
            "17/17 [==============================] - 0s 2ms/step - loss: 0.5569 - accuracy: 0.6685\n",
            "Epoch 202/300\n",
            "17/17 [==============================] - 0s 2ms/step - loss: 0.5549 - accuracy: 0.6667\n",
            "Epoch 203/300\n",
            "17/17 [==============================] - 0s 2ms/step - loss: 0.5506 - accuracy: 0.6704\n",
            "Epoch 204/300\n",
            "17/17 [==============================] - 0s 2ms/step - loss: 0.5525 - accuracy: 0.6685\n",
            "Epoch 205/300\n",
            "17/17 [==============================] - 0s 2ms/step - loss: 0.5512 - accuracy: 0.6704\n",
            "Epoch 206/300\n",
            "17/17 [==============================] - 0s 2ms/step - loss: 0.5524 - accuracy: 0.6667\n",
            "Epoch 207/300\n",
            "17/17 [==============================] - 0s 2ms/step - loss: 0.5472 - accuracy: 0.6704\n",
            "Epoch 208/300\n",
            "17/17 [==============================] - 0s 2ms/step - loss: 0.5488 - accuracy: 0.6723\n",
            "Epoch 209/300\n",
            "17/17 [==============================] - 0s 2ms/step - loss: 0.5444 - accuracy: 0.6723\n",
            "Epoch 210/300\n",
            "17/17 [==============================] - 0s 2ms/step - loss: 0.5657 - accuracy: 0.6704\n",
            "Epoch 211/300\n",
            "17/17 [==============================] - 0s 2ms/step - loss: 0.5500 - accuracy: 0.6834\n",
            "Epoch 212/300\n",
            "17/17 [==============================] - 0s 2ms/step - loss: 0.5510 - accuracy: 0.6965\n",
            "Epoch 213/300\n",
            "17/17 [==============================] - 0s 2ms/step - loss: 0.5456 - accuracy: 0.6965\n",
            "Epoch 214/300\n",
            "17/17 [==============================] - 0s 2ms/step - loss: 0.5475 - accuracy: 0.6946\n",
            "Epoch 215/300\n",
            "17/17 [==============================] - 0s 2ms/step - loss: 0.5500 - accuracy: 0.6816\n",
            "Epoch 216/300\n",
            "17/17 [==============================] - 0s 2ms/step - loss: 0.5563 - accuracy: 0.6294\n",
            "Epoch 217/300\n",
            "17/17 [==============================] - 0s 2ms/step - loss: 0.5459 - accuracy: 0.6555\n",
            "Epoch 218/300\n",
            "17/17 [==============================] - 0s 2ms/step - loss: 0.5496 - accuracy: 0.6946\n",
            "Epoch 219/300\n",
            "17/17 [==============================] - 0s 2ms/step - loss: 0.5514 - accuracy: 0.7002\n",
            "Epoch 220/300\n",
            "17/17 [==============================] - 0s 2ms/step - loss: 0.5564 - accuracy: 0.6927\n",
            "Epoch 221/300\n",
            "17/17 [==============================] - 0s 2ms/step - loss: 0.5536 - accuracy: 0.6965\n",
            "Epoch 222/300\n",
            "17/17 [==============================] - 0s 2ms/step - loss: 0.5488 - accuracy: 0.6909\n",
            "Epoch 223/300\n",
            "17/17 [==============================] - 0s 2ms/step - loss: 0.5478 - accuracy: 0.7002\n",
            "Epoch 224/300\n",
            "17/17 [==============================] - 0s 2ms/step - loss: 0.5469 - accuracy: 0.6983\n",
            "Epoch 225/300\n",
            "17/17 [==============================] - 0s 2ms/step - loss: 0.5452 - accuracy: 0.6946\n",
            "Epoch 226/300\n",
            "17/17 [==============================] - 0s 2ms/step - loss: 0.5569 - accuracy: 0.6667\n",
            "Epoch 227/300\n",
            "17/17 [==============================] - 0s 2ms/step - loss: 0.5448 - accuracy: 0.6983\n",
            "Epoch 228/300\n",
            "17/17 [==============================] - 0s 2ms/step - loss: 0.5454 - accuracy: 0.6983\n",
            "Epoch 229/300\n",
            "17/17 [==============================] - 0s 2ms/step - loss: 0.5455 - accuracy: 0.7076\n",
            "Epoch 230/300\n",
            "17/17 [==============================] - 0s 2ms/step - loss: 0.5476 - accuracy: 0.6946\n",
            "Epoch 231/300\n",
            "17/17 [==============================] - 0s 2ms/step - loss: 0.5452 - accuracy: 0.7020\n",
            "Epoch 232/300\n",
            "17/17 [==============================] - 0s 2ms/step - loss: 0.5415 - accuracy: 0.7020\n",
            "Epoch 233/300\n",
            "17/17 [==============================] - 0s 2ms/step - loss: 0.5458 - accuracy: 0.6816\n",
            "Epoch 234/300\n",
            "17/17 [==============================] - 0s 2ms/step - loss: 0.5521 - accuracy: 0.6778\n",
            "Epoch 235/300\n",
            "17/17 [==============================] - 0s 2ms/step - loss: 0.5514 - accuracy: 0.6946\n",
            "Epoch 236/300\n",
            "17/17 [==============================] - 0s 2ms/step - loss: 0.5460 - accuracy: 0.7002\n",
            "Epoch 237/300\n",
            "17/17 [==============================] - 0s 2ms/step - loss: 0.5548 - accuracy: 0.6704\n",
            "Epoch 238/300\n",
            "17/17 [==============================] - 0s 2ms/step - loss: 0.5445 - accuracy: 0.6946\n",
            "Epoch 239/300\n",
            "17/17 [==============================] - 0s 2ms/step - loss: 0.5521 - accuracy: 0.6816\n",
            "Epoch 240/300\n",
            "17/17 [==============================] - 0s 2ms/step - loss: 0.5477 - accuracy: 0.6927\n",
            "Epoch 241/300\n",
            "17/17 [==============================] - 0s 2ms/step - loss: 0.5443 - accuracy: 0.6983\n",
            "Epoch 242/300\n",
            "17/17 [==============================] - 0s 2ms/step - loss: 0.5474 - accuracy: 0.6909\n",
            "Epoch 243/300\n",
            "17/17 [==============================] - 0s 2ms/step - loss: 0.5509 - accuracy: 0.6983\n",
            "Epoch 244/300\n",
            "17/17 [==============================] - 0s 2ms/step - loss: 0.5576 - accuracy: 0.6611\n",
            "Epoch 245/300\n",
            "17/17 [==============================] - 0s 2ms/step - loss: 0.5457 - accuracy: 0.6853\n",
            "Epoch 246/300\n",
            "17/17 [==============================] - 0s 2ms/step - loss: 0.5595 - accuracy: 0.6704\n",
            "Epoch 247/300\n",
            "17/17 [==============================] - 0s 2ms/step - loss: 0.5446 - accuracy: 0.6965\n",
            "Epoch 248/300\n",
            "17/17 [==============================] - 0s 2ms/step - loss: 0.5392 - accuracy: 0.7132\n",
            "Epoch 249/300\n",
            "17/17 [==============================] - 0s 2ms/step - loss: 0.5485 - accuracy: 0.7002\n",
            "Epoch 250/300\n",
            "17/17 [==============================] - 0s 2ms/step - loss: 0.5431 - accuracy: 0.6909\n",
            "Epoch 251/300\n",
            "17/17 [==============================] - 0s 2ms/step - loss: 0.5456 - accuracy: 0.6946\n",
            "Epoch 252/300\n",
            "17/17 [==============================] - 0s 2ms/step - loss: 0.5424 - accuracy: 0.7002\n",
            "Epoch 253/300\n",
            "17/17 [==============================] - 0s 2ms/step - loss: 0.5406 - accuracy: 0.6946\n",
            "Epoch 254/300\n",
            "17/17 [==============================] - 0s 2ms/step - loss: 0.5433 - accuracy: 0.7002\n",
            "Epoch 255/300\n",
            "17/17 [==============================] - 0s 2ms/step - loss: 0.5396 - accuracy: 0.7020\n",
            "Epoch 256/300\n",
            "17/17 [==============================] - 0s 2ms/step - loss: 0.5397 - accuracy: 0.7058\n",
            "Epoch 257/300\n",
            "17/17 [==============================] - 0s 2ms/step - loss: 0.5492 - accuracy: 0.6872\n",
            "Epoch 258/300\n",
            "17/17 [==============================] - 0s 2ms/step - loss: 0.5520 - accuracy: 0.6778\n",
            "Epoch 259/300\n",
            "17/17 [==============================] - 0s 2ms/step - loss: 0.5515 - accuracy: 0.7020\n",
            "Epoch 260/300\n",
            "17/17 [==============================] - 0s 2ms/step - loss: 0.5397 - accuracy: 0.7039\n",
            "Epoch 261/300\n",
            "17/17 [==============================] - 0s 2ms/step - loss: 0.5459 - accuracy: 0.6965\n",
            "Epoch 262/300\n",
            "17/17 [==============================] - 0s 2ms/step - loss: 0.5433 - accuracy: 0.7020\n",
            "Epoch 263/300\n",
            "17/17 [==============================] - 0s 2ms/step - loss: 0.5466 - accuracy: 0.7002\n",
            "Epoch 264/300\n",
            "17/17 [==============================] - 0s 2ms/step - loss: 0.5444 - accuracy: 0.7002\n",
            "Epoch 265/300\n",
            "17/17 [==============================] - 0s 2ms/step - loss: 0.5520 - accuracy: 0.6872\n",
            "Epoch 266/300\n",
            "17/17 [==============================] - 0s 2ms/step - loss: 0.5413 - accuracy: 0.7039\n",
            "Epoch 267/300\n",
            "17/17 [==============================] - 0s 2ms/step - loss: 0.5445 - accuracy: 0.6946\n",
            "Epoch 268/300\n",
            "17/17 [==============================] - 0s 2ms/step - loss: 0.5407 - accuracy: 0.6965\n",
            "Epoch 269/300\n",
            "17/17 [==============================] - 0s 2ms/step - loss: 0.5493 - accuracy: 0.6965\n",
            "Epoch 270/300\n",
            "17/17 [==============================] - 0s 2ms/step - loss: 0.5510 - accuracy: 0.6927\n",
            "Epoch 271/300\n",
            "17/17 [==============================] - 0s 2ms/step - loss: 0.5698 - accuracy: 0.6853\n",
            "Epoch 272/300\n",
            "17/17 [==============================] - 0s 2ms/step - loss: 0.5561 - accuracy: 0.7002\n",
            "Epoch 273/300\n",
            "17/17 [==============================] - 0s 2ms/step - loss: 0.5538 - accuracy: 0.6909\n",
            "Epoch 274/300\n",
            "17/17 [==============================] - 0s 2ms/step - loss: 0.5515 - accuracy: 0.6983\n",
            "Epoch 275/300\n",
            "17/17 [==============================] - 0s 2ms/step - loss: 0.5491 - accuracy: 0.6927\n",
            "Epoch 276/300\n",
            "17/17 [==============================] - 0s 2ms/step - loss: 0.5582 - accuracy: 0.6909\n",
            "Epoch 277/300\n",
            "17/17 [==============================] - 0s 2ms/step - loss: 0.5459 - accuracy: 0.6816\n",
            "Epoch 278/300\n",
            "17/17 [==============================] - 0s 2ms/step - loss: 0.5485 - accuracy: 0.7114\n",
            "Epoch 279/300\n",
            "17/17 [==============================] - 0s 2ms/step - loss: 0.5444 - accuracy: 0.7132\n",
            "Epoch 280/300\n",
            "17/17 [==============================] - 0s 2ms/step - loss: 0.5448 - accuracy: 0.6927\n",
            "Epoch 281/300\n",
            "17/17 [==============================] - 0s 2ms/step - loss: 0.5470 - accuracy: 0.7058\n",
            "Epoch 282/300\n",
            "17/17 [==============================] - 0s 2ms/step - loss: 0.5446 - accuracy: 0.7114\n",
            "Epoch 283/300\n",
            "17/17 [==============================] - 0s 2ms/step - loss: 0.5433 - accuracy: 0.7132\n",
            "Epoch 284/300\n",
            "17/17 [==============================] - 0s 2ms/step - loss: 0.5473 - accuracy: 0.6927\n",
            "Epoch 285/300\n",
            "17/17 [==============================] - 0s 2ms/step - loss: 0.5494 - accuracy: 0.6965\n",
            "Epoch 286/300\n",
            "17/17 [==============================] - 0s 2ms/step - loss: 0.5574 - accuracy: 0.6592\n",
            "Epoch 287/300\n",
            "17/17 [==============================] - 0s 2ms/step - loss: 0.5495 - accuracy: 0.6834\n",
            "Epoch 288/300\n",
            "17/17 [==============================] - 0s 2ms/step - loss: 0.5534 - accuracy: 0.6890\n",
            "Epoch 289/300\n",
            "17/17 [==============================] - 0s 2ms/step - loss: 0.5467 - accuracy: 0.6946\n",
            "Epoch 290/300\n",
            "17/17 [==============================] - 0s 3ms/step - loss: 0.5578 - accuracy: 0.6797\n",
            "Epoch 291/300\n",
            "17/17 [==============================] - 0s 2ms/step - loss: 0.5525 - accuracy: 0.6872\n",
            "Epoch 292/300\n",
            "17/17 [==============================] - 0s 2ms/step - loss: 0.5479 - accuracy: 0.6872\n",
            "Epoch 293/300\n",
            "17/17 [==============================] - 0s 2ms/step - loss: 0.5483 - accuracy: 0.6760\n",
            "Epoch 294/300\n",
            "17/17 [==============================] - 0s 2ms/step - loss: 0.5498 - accuracy: 0.6797\n",
            "Epoch 295/300\n",
            "17/17 [==============================] - 0s 2ms/step - loss: 0.5460 - accuracy: 0.6760\n",
            "Epoch 296/300\n",
            "17/17 [==============================] - 0s 2ms/step - loss: 0.5399 - accuracy: 0.6927\n",
            "Epoch 297/300\n",
            "17/17 [==============================] - 0s 2ms/step - loss: 0.5720 - accuracy: 0.6853\n",
            "Epoch 298/300\n",
            "17/17 [==============================] - 0s 2ms/step - loss: 0.5504 - accuracy: 0.6797\n",
            "Epoch 299/300\n",
            "17/17 [==============================] - 0s 2ms/step - loss: 0.5455 - accuracy: 0.7002\n",
            "Epoch 300/300\n",
            "17/17 [==============================] - 0s 2ms/step - loss: 0.5493 - accuracy: 0.6760\n"
          ]
        },
        {
          "output_type": "execute_result",
          "data": {
            "text/plain": [
              "<keras.callbacks.History at 0x7f6af0673c90>"
            ]
          },
          "metadata": {},
          "execution_count": 103
        }
      ]
    },
    {
      "cell_type": "code",
      "metadata": {
        "colab": {
          "base_uri": "https://localhost:8080/"
        },
        "id": "gUbfHGP24X8B",
        "outputId": "0d0931df-338a-4242-dcd6-595e64592781"
      },
      "source": [
        "loss_and_metrics = model.evaluate(X_test, \n",
        "                                  Y_test, \n",
        "                                  batch_size=128)"
      ],
      "execution_count": null,
      "outputs": [
        {
          "output_type": "stream",
          "name": "stdout",
          "text": [
            "2/2 [==============================] - 0s 6ms/step - loss: 0.6063 - accuracy: 0.6494\n"
          ]
        }
      ]
    },
    {
      "cell_type": "code",
      "metadata": {
        "colab": {
          "base_uri": "https://localhost:8080/"
        },
        "id": "r79wL6Dz51G-",
        "outputId": "088b47f2-3385-4ccb-ccfa-0fae6c09a9e3"
      },
      "source": [
        "classes = model.predict(X_test, batch_size=128)\n",
        "y_hat = np.max (classes,axis=1)\n",
        "y_hat = np.where(y_hat<0.5,0,1)\n",
        "y_test = y_test.reshape(-1)\n",
        "\n",
        "print(y_test[:5])\n",
        "print(y_hat[:5])"
      ],
      "execution_count": null,
      "outputs": [
        {
          "output_type": "stream",
          "name": "stdout",
          "text": [
            "[0 1 0 0 1]\n",
            "[1 1 1 1 1]\n"
          ]
        }
      ]
    },
    {
      "cell_type": "code",
      "metadata": {
        "id": "X-Wb22P356BI"
      },
      "source": [
        ""
      ],
      "execution_count": null,
      "outputs": []
    }
  ]
}